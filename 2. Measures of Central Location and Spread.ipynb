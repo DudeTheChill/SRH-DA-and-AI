{
 "cells": [
  {
   "cell_type": "markdown",
   "metadata": {
    "collapsed": true,
    "pycharm": {
     "name": "#%% md\n"
    }
   },
   "source": [
    "Calculate for the following exercises the mean, the 5% trimmed mean, the median, the interquartile\n",
    "range, the 30%-quantile, the variance, the standard deviation, the coefficient of variation, the fivepoint-summary, and construct a boxplot."
   ]
  },
  {
   "cell_type": "markdown",
   "source": [
    "1) Air Quality. The dataset \"airquality\" form the R-package {datasets} contains daily air quality measurements in New York, May to September 1973. The data were obtained from the New York State Department of Conservation (ozone data) and the National Weather Service (meteorological data). Reference: Chambers, J. M., Cleveland, W. S., Kleiner, B. and Tukey, P. A. (1983) Graphical Methods for Data Analysis. Belmont, CA: Wadsworth. Daily readings of the following air quality values for May 1, 1973 (a Tuesday) to September 30, 1973. <br>\n",
    "Ozone: Mean ozone in parts per billion from 1300 to 1500 hours at Roosevelt Island<br>\n",
    "Solar.R: Solar radiation in Langleys in the frequency band 4000–7700 Angstroms from 0800 to 1200<br>\n",
    "hours at Central Park<br>\n",
    "Wind: Average wind speed in miles per hour at 0700 and 1000 hours at LaGuardia Airport<br>\n",
    "Temp: Maximum daily temperature in degrees Fahrenheit at La Guardia Airport."
   ],
   "metadata": {
    "collapsed": false,
    "pycharm": {
     "name": "#%% md\n"
    }
   }
  },
  {
   "cell_type": "code",
   "execution_count": 4,
   "outputs": [
    {
     "data": {
      "text/plain": "   Unnamed: 0  Ozone  Solar.R  Wind  Temp  Month  Day\n0           1   41.0    190.0   7.4    67      5    1\n1           2   36.0    118.0   8.0    72      5    2\n2           3   12.0    149.0  12.6    74      5    3\n3           4   18.0    313.0  11.5    62      5    4\n4           5    NaN      NaN  14.3    56      5    5",
      "text/html": "<div>\n<style scoped>\n    .dataframe tbody tr th:only-of-type {\n        vertical-align: middle;\n    }\n\n    .dataframe tbody tr th {\n        vertical-align: top;\n    }\n\n    .dataframe thead th {\n        text-align: right;\n    }\n</style>\n<table border=\"1\" class=\"dataframe\">\n  <thead>\n    <tr style=\"text-align: right;\">\n      <th></th>\n      <th>Unnamed: 0</th>\n      <th>Ozone</th>\n      <th>Solar.R</th>\n      <th>Wind</th>\n      <th>Temp</th>\n      <th>Month</th>\n      <th>Day</th>\n    </tr>\n  </thead>\n  <tbody>\n    <tr>\n      <th>0</th>\n      <td>1</td>\n      <td>41.0</td>\n      <td>190.0</td>\n      <td>7.4</td>\n      <td>67</td>\n      <td>5</td>\n      <td>1</td>\n    </tr>\n    <tr>\n      <th>1</th>\n      <td>2</td>\n      <td>36.0</td>\n      <td>118.0</td>\n      <td>8.0</td>\n      <td>72</td>\n      <td>5</td>\n      <td>2</td>\n    </tr>\n    <tr>\n      <th>2</th>\n      <td>3</td>\n      <td>12.0</td>\n      <td>149.0</td>\n      <td>12.6</td>\n      <td>74</td>\n      <td>5</td>\n      <td>3</td>\n    </tr>\n    <tr>\n      <th>3</th>\n      <td>4</td>\n      <td>18.0</td>\n      <td>313.0</td>\n      <td>11.5</td>\n      <td>62</td>\n      <td>5</td>\n      <td>4</td>\n    </tr>\n    <tr>\n      <th>4</th>\n      <td>5</td>\n      <td>NaN</td>\n      <td>NaN</td>\n      <td>14.3</td>\n      <td>56</td>\n      <td>5</td>\n      <td>5</td>\n    </tr>\n  </tbody>\n</table>\n</div>"
     },
     "execution_count": 4,
     "metadata": {},
     "output_type": "execute_result"
    }
   ],
   "source": [
    "import pandas as pd\n",
    "from scipy import stats\n",
    "df = pd.read_csv(\"airquality.csv\")\n",
    "df.head()"
   ],
   "metadata": {
    "collapsed": false,
    "pycharm": {
     "name": "#%%\n"
    }
   }
  },
  {
   "cell_type": "markdown",
   "source": [
    "Ozone:"
   ],
   "metadata": {
    "collapsed": false,
    "pycharm": {
     "name": "#%% md\n"
    }
   }
  },
  {
   "cell_type": "code",
   "execution_count": 8,
   "outputs": [
    {
     "name": "stdout",
     "output_type": "stream",
     "text": [
      "{'ozone_mean': 42.12931034482759, 'ozone_trimmed_mean': nan, 'ozone_median': 31.5, 'ozone_IQR': 45.25, 'ozone_quantile': 20.0, 'ozone_variance': 1088.2005247376312, 'ozone_SD': 32.98788451443395}\n"
     ]
    },
    {
     "data": {
      "text/plain": "<Figure size 432x288 with 1 Axes>",
      "image/png": "[encoded data removed]"
     },
     "metadata": {
      "needs_background": "light"
     },
     "output_type": "display_data"
    }
   ],
   "source": [
    "output = {}\n",
    "#mean\n",
    "output['ozone_mean'] = df.Ozone.mean()\n",
    "# 5% trimmed mean\n",
    "output['ozone_trimmed_mean'] = stats.trim_mean(df.Ozone, 0.05)\n",
    "# the median\n",
    "output['ozone_median'] = df.Ozone.median()\n",
    "# the interquartile range\n",
    "output['ozone_IQR'] = df.Ozone.quantile(0.75) - df.Ozone.quantile(0.25)\n",
    "#30%-quantile\n",
    "output['ozone_quantile'] = df.Ozone.quantile(0.3)\n",
    "# variance\n",
    "output['ozone_variance'] = df.Ozone.var()\n",
    "# standard deviation\n",
    "output['ozone_SD'] = df.Ozone.std()\n",
    "# boxplot\n",
    "df.boxplot(['Ozone'])\n",
    "print(output)"
   ],
   "metadata": {
    "collapsed": false,
    "pycharm": {
     "name": "#%%\n"
    }
   }
  },
  {
   "cell_type": "code",
   "execution_count": null,
   "outputs": [],
   "source": [],
   "metadata": {
    "collapsed": false,
    "pycharm": {
     "name": "#%%\n"
    }
   }
  }
 ],
 "metadata": {
  "kernelspec": {
   "display_name": "Python 3",
   "language": "python",
   "name": "python3"
  },
  "language_info": {
   "codemirror_mode": {
    "name": "ipython",
    "version": 2
   },
   "file_extension": ".py",
   "mimetype": "text/x-python",
   "name": "python",
   "nbconvert_exporter": "python",
   "pygments_lexer": "ipython2",
   "version": "2.7.6"
  }
 },
 "nbformat": 4,
 "nbformat_minor": 0
}