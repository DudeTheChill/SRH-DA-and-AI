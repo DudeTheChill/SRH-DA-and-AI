{
 "cells": [
  {
   "cell_type": "markdown",
   "source": [
    "Note: To extract dataframes from r you can use the following command in r environment:<br>\n",
    "write.csv(DATAFRAME_NAME, \"PATH_TO_SAVE_THE_FILE.csv\")"
   ],
   "metadata": {
    "collapsed": false,
    "pycharm": {
     "name": "#%% md\n"
    }
   }
  },
  {
   "cell_type": "markdown",
   "source": [
    "1) Water Quality. (qualitative variable) In a study, the quality of water was categorized as:<br>\n",
    "\"A\", \"B\", \"C\", \"D\" and \"F\" <br>\n",
    "A sample of 30 measurements resulted in:<br>\n",
    "\"B\" \"C\" \"A\" \"C\" \"A\" \"A\" \"F\" \"C\" \"C\" \"B\" \"F\" \"D\" \"B\" \"F\" \"C\" \"A\" \"D\"<br>\n",
    "\"C\" \"B\" \"F\" \"B\" \"B\" \"C\" \"A\" \"B\" \"D\" \"F\" \"C\" \"B\" \"A\"<br>\n",
    "Generate the data in R by:<br>\n",
    "> set.seed(5)<br>\n",
    "> x<-sample(c(\"A\", \"B\", \"C\", \"D\",\"F\"),30,replace=T)\n",
    "\n",
    "a. Form the frequency and the relative frequency (percentage) distributions.<br>\n",
    "b. Plot the bar chart.<br>\n",
    "c. Plot the pie chart."
   ],
   "metadata": {
    "collapsed": false
   }
  },
  {
   "cell_type": "markdown",
   "id": "e5bb0221-ede4-4ae1-a238-cba2486b3cea",
   "metadata": {},
   "source": [
    "<b>A:</b> To solve this problem we can take two ways. First, is to use the python commands to create data, and Second is to generate data using r and copy it in a padas dataframe. While the second approach makes the output identical to the one using r, here we will use the first approach to gain more knowledge about python commands."
   ]
  },
  {
   "cell_type": "code",
   "execution_count": 1,
   "id": "f0e45343-a7be-4c50-97c1-7bdfb9b85268",
   "metadata": {},
   "outputs": [
    {
     "data": {
      "text/html": [
       "<div>\n",
       "<style scoped>\n",
       "    .dataframe tbody tr th:only-of-type {\n",
       "        vertical-align: middle;\n",
       "    }\n",
       "\n",
       "    .dataframe tbody tr th {\n",
       "        vertical-align: top;\n",
       "    }\n",
       "\n",
       "    .dataframe thead th {\n",
       "        text-align: right;\n",
       "    }\n",
       "</style>\n",
       "<table border=\"1\" class=\"dataframe\">\n",
       "  <thead>\n",
       "    <tr style=\"text-align: right;\">\n",
       "      <th></th>\n",
       "      <th>0</th>\n",
       "    </tr>\n",
       "  </thead>\n",
       "  <tbody>\n",
       "    <tr>\n",
       "      <th>0</th>\n",
       "      <td>D</td>\n",
       "    </tr>\n",
       "    <tr>\n",
       "      <th>1</th>\n",
       "      <td>D</td>\n",
       "    </tr>\n",
       "    <tr>\n",
       "      <th>2</th>\n",
       "      <td>D</td>\n",
       "    </tr>\n",
       "    <tr>\n",
       "      <th>3</th>\n",
       "      <td>F</td>\n",
       "    </tr>\n",
       "    <tr>\n",
       "      <th>4</th>\n",
       "      <td>D</td>\n",
       "    </tr>\n",
       "    <tr>\n",
       "      <th>5</th>\n",
       "      <td>F</td>\n",
       "    </tr>\n",
       "    <tr>\n",
       "      <th>6</th>\n",
       "      <td>A</td>\n",
       "    </tr>\n",
       "    <tr>\n",
       "      <th>7</th>\n",
       "      <td>C</td>\n",
       "    </tr>\n",
       "    <tr>\n",
       "      <th>8</th>\n",
       "      <td>F</td>\n",
       "    </tr>\n",
       "    <tr>\n",
       "      <th>9</th>\n",
       "      <td>D</td>\n",
       "    </tr>\n",
       "    <tr>\n",
       "      <th>10</th>\n",
       "      <td>F</td>\n",
       "    </tr>\n",
       "    <tr>\n",
       "      <th>11</th>\n",
       "      <td>A</td>\n",
       "    </tr>\n",
       "    <tr>\n",
       "      <th>12</th>\n",
       "      <td>C</td>\n",
       "    </tr>\n",
       "    <tr>\n",
       "      <th>13</th>\n",
       "      <td>B</td>\n",
       "    </tr>\n",
       "    <tr>\n",
       "      <th>14</th>\n",
       "      <td>C</td>\n",
       "    </tr>\n",
       "    <tr>\n",
       "      <th>15</th>\n",
       "      <td>C</td>\n",
       "    </tr>\n",
       "    <tr>\n",
       "      <th>16</th>\n",
       "      <td>A</td>\n",
       "    </tr>\n",
       "    <tr>\n",
       "      <th>17</th>\n",
       "      <td>B</td>\n",
       "    </tr>\n",
       "    <tr>\n",
       "      <th>18</th>\n",
       "      <td>B</td>\n",
       "    </tr>\n",
       "    <tr>\n",
       "      <th>19</th>\n",
       "      <td>F</td>\n",
       "    </tr>\n",
       "    <tr>\n",
       "      <th>20</th>\n",
       "      <td>D</td>\n",
       "    </tr>\n",
       "    <tr>\n",
       "      <th>21</th>\n",
       "      <td>A</td>\n",
       "    </tr>\n",
       "    <tr>\n",
       "      <th>22</th>\n",
       "      <td>D</td>\n",
       "    </tr>\n",
       "    <tr>\n",
       "      <th>23</th>\n",
       "      <td>A</td>\n",
       "    </tr>\n",
       "    <tr>\n",
       "      <th>24</th>\n",
       "      <td>D</td>\n",
       "    </tr>\n",
       "    <tr>\n",
       "      <th>25</th>\n",
       "      <td>A</td>\n",
       "    </tr>\n",
       "    <tr>\n",
       "      <th>26</th>\n",
       "      <td>A</td>\n",
       "    </tr>\n",
       "    <tr>\n",
       "      <th>27</th>\n",
       "      <td>F</td>\n",
       "    </tr>\n",
       "    <tr>\n",
       "      <th>28</th>\n",
       "      <td>B</td>\n",
       "    </tr>\n",
       "    <tr>\n",
       "      <th>29</th>\n",
       "      <td>B</td>\n",
       "    </tr>\n",
       "  </tbody>\n",
       "</table>\n",
       "</div>"
      ],
      "text/plain": [
       "    0\n",
       "0   D\n",
       "1   D\n",
       "2   D\n",
       "3   F\n",
       "4   D\n",
       "5   F\n",
       "6   A\n",
       "7   C\n",
       "8   F\n",
       "9   D\n",
       "10  F\n",
       "11  A\n",
       "12  C\n",
       "13  B\n",
       "14  C\n",
       "15  C\n",
       "16  A\n",
       "17  B\n",
       "18  B\n",
       "19  F\n",
       "20  D\n",
       "21  A\n",
       "22  D\n",
       "23  A\n",
       "24  D\n",
       "25  A\n",
       "26  A\n",
       "27  F\n",
       "28  B\n",
       "29  B"
      ]
     },
     "execution_count": 1,
     "metadata": {},
     "output_type": "execute_result"
    }
   ],
   "source": [
    "import pandas as pd\n",
    "import numpy as np\n",
    "import random\n",
    "\n",
    "random.seed(5)\n",
    "# generating a random dataframe from the set of values \"A\",\"B\",\"C\",\"D\",\"F\" with size 30\n",
    "df = pd.DataFrame(random.choices([\"A\",\"B\",\"C\",\"D\",\"F\"], k=30)) \n",
    "df"
   ]
  },
  {
   "cell_type": "code",
   "execution_count": 2,
   "id": "051c5978-3937-4421-b820-ed9b153ce76e",
   "metadata": {},
   "outputs": [],
   "source": [
    "# calculating absolute frequencies\n",
    "abs_frequency = df.value_counts()\n",
    "#calculating relative frequencies using: relative-frequency = absolute-frequency/size of data\n",
    "rlv_frequency = abs_frequency/df.size"
   ]
  },
  {
   "cell_type": "code",
   "execution_count": 3,
   "id": "8592c5e4-5142-44f0-9f08-2d0b9fc8431b",
   "metadata": {},
   "outputs": [
    {
     "data": {
      "text/plain": [
       "D    8\n",
       "A    7\n",
       "F    6\n",
       "B    5\n",
       "C    4\n",
       "dtype: int64"
      ]
     },
     "execution_count": 3,
     "metadata": {},
     "output_type": "execute_result"
    }
   ],
   "source": [
    "abs_frequency"
   ]
  },
  {
   "cell_type": "code",
   "execution_count": 4,
   "id": "a1bbc5d2-b8e0-4c4d-8298-e9da00d42743",
   "metadata": {},
   "outputs": [
    {
     "data": {
      "text/plain": [
       "D    0.266667\n",
       "A    0.233333\n",
       "F    0.200000\n",
       "B    0.166667\n",
       "C    0.133333\n",
       "dtype: float64"
      ]
     },
     "execution_count": 4,
     "metadata": {},
     "output_type": "execute_result"
    }
   ],
   "source": [
    "rlv_frequency"
   ]
  },
  {
   "cell_type": "code",
   "execution_count": 5,
   "id": "f4514d27-2b57-4836-ae2d-a27f645376cd",
   "metadata": {},
   "outputs": [
    {
     "data": {
      "text/plain": [
       "<AxesSubplot:xlabel='0'>"
      ]
     },
     "execution_count": 5,
     "metadata": {},
     "output_type": "execute_result"
    },
    {
     "data": {
      "image/png": "[encoded data removed]",
      "text/plain": [
       "<Figure size 432x288 with 1 Axes>"
      ]
     },
     "metadata": {
      "needs_background": "light"
     },
     "output_type": "display_data"
    }
   ],
   "source": [
    "abs_frequency.plot(kind='bar')"
   ]
  },
  {
   "cell_type": "code",
   "execution_count": 6,
   "id": "51412614-5a02-41f0-bfcd-886fcef715de",
   "metadata": {},
   "outputs": [
    {
     "data": {
      "text/plain": [
       "<AxesSubplot:xlabel='0'>"
      ]
     },
     "execution_count": 6,
     "metadata": {},
     "output_type": "execute_result"
    },
    {
     "data": {
      "image/png": "[encoded data removed]",
      "text/plain": [
       "<Figure size 432x288 with 1 Axes>"
      ]
     },
     "metadata": {
      "needs_background": "light"
     },
     "output_type": "display_data"
    }
   ],
   "source": [
    "rlv_frequency.plot(kind='bar')"
   ]
  },
  {
   "cell_type": "markdown",
   "id": "a906ad09-99d2-4856-8513-1193ba8e2adb",
   "metadata": {},
   "source": [
    "2) <b>Design Specifications. (quantitative and discrete variable)</b> Temperature transducers of a certain type are shipped in batches of 50. A sample of 60 batches was selected, and the number of transducers in each batch not conforming to design specifications was determined, resulting in the following data. (Data: ex01.17) <br>"
   ]
  },
  {
   "cell_type": "code",
   "execution_count": 5,
   "id": "fb45f5ea-6a6d-48a0-afa3-7d2b4f6f9b38",
   "metadata": {},
   "outputs": [
    {
     "data": {
      "text/plain": "<bound method NDFrame.head of     C1\n0    2\n1    1\n2    2\n3    4\n4    0\n5    1\n6    3\n7    2\n8    0\n9    5\n10   3\n11   3\n12   1\n13   3\n14   2\n15   4\n16   7\n17   0\n18   2\n19   3\n20   0\n21   4\n22   2\n23   1\n24   3\n25   1\n26   1\n27   3\n28   4\n29   1\n30   2\n31   3\n32   2\n33   2\n34   8\n35   4\n36   5\n37   1\n38   3\n39   1\n40   5\n41   0\n42   2\n43   3\n44   2\n45   1\n46   0\n47   6\n48   4\n49   2\n50   1\n51   6\n52   0\n53   3\n54   3\n55   3\n56   6\n57   1\n58   2\n59   3>"
     },
     "execution_count": 5,
     "metadata": {},
     "output_type": "execute_result"
    }
   ],
   "source": [
    "import pandas as pd\n",
    "df = pd.read_csv(\"ex01_17.csv\")\n",
    "df.head"
   ]
  },
  {
   "cell_type": "markdown",
   "source": [
    "a) Determine absolute frequencies and relative frequencies for the observed values of x = number of nonconforming transducers in a batch."
   ],
   "metadata": {
    "collapsed": false,
    "pycharm": {
     "name": "#%% md\n"
    }
   }
  },
  {
   "cell_type": "code",
   "execution_count": 10,
   "outputs": [
    {
     "data": {
      "text/plain": "C1\n0      7\n1     12\n2     13\n3     14\n4      6\n5      3\n6      3\n7      1\n8      1\ndtype: int64"
     },
     "metadata": {},
     "output_type": "display_data"
    },
    {
     "data": {
      "text/plain": "C1\n0     0.116667\n1     0.200000\n2     0.216667\n3     0.233333\n4     0.100000\n5     0.050000\n6     0.050000\n7     0.016667\n8     0.016667\ndtype: float64"
     },
     "metadata": {},
     "output_type": "display_data"
    }
   ],
   "source": [
    "from IPython.display import display\n",
    "abs_frequency = df.value_counts().sort_index()\n",
    "rlv_frequency = abs_frequency/df.size\n",
    "display(abs_frequency)\n",
    "display(rlv_frequency)"
   ],
   "metadata": {
    "collapsed": false,
    "pycharm": {
     "name": "#%%\n"
    }
   }
  },
  {
   "cell_type": "markdown",
   "source": [
    "b. What proportion of batches in the sample have at most five nonconforming transducers? What proportion have fewer than five? What proportion have at least five nonconforming units? <br>"
   ],
   "metadata": {
    "collapsed": false,
    "pycharm": {
     "name": "#%% md\n"
    }
   }
  },
  {
   "cell_type": "code",
   "execution_count": 13,
   "outputs": [
    {
     "data": {
      "text/plain": "C1\n0     0.116667\n1     0.316667\n2     0.533333\n3     0.766667\n4     0.866667\n5     0.916667\n6     0.966667\n7     0.983333\n8     1.000000\ndtype: float64"
     },
     "execution_count": 13,
     "metadata": {},
     "output_type": "execute_result"
    }
   ],
   "source": [
    "rlv_frequency.cumsum()"
   ],
   "metadata": {
    "collapsed": false,
    "pycharm": {
     "name": "#%%\n"
    }
   }
  },
  {
   "cell_type": "markdown",
   "source": [
    "From the output above we can see that 91.6667% of cases have at most five nonconforming units."
   ],
   "metadata": {
    "collapsed": false,
    "pycharm": {
     "name": "#%% md\n"
    }
   }
  },
  {
   "cell_type": "code",
   "execution_count": 14,
   "outputs": [
    {
     "data": {
      "text/plain": "0.13333333333333341"
     },
     "execution_count": 14,
     "metadata": {},
     "output_type": "execute_result"
    }
   ],
   "source": [
    "1 - rlv_frequency.cumsum()[4]"
   ],
   "metadata": {
    "collapsed": false,
    "pycharm": {
     "name": "#%%\n"
    }
   }
  },
  {
   "cell_type": "markdown",
   "source": [
    "From the output above we can see that 13.33% of cases have at least five nonconforming units."
   ],
   "metadata": {
    "collapsed": false,
    "pycharm": {
     "name": "#%% md\n"
    }
   }
  },
  {
   "cell_type": "markdown",
   "source": [
    "c. Draw a bar plot of the data using relative frequency on the vertical scale, and comment on its features."
   ],
   "metadata": {
    "collapsed": false,
    "pycharm": {
     "name": "#%% md\n"
    }
   }
  },
  {
   "cell_type": "code",
   "execution_count": 16,
   "outputs": [
    {
     "data": {
      "text/plain": "<AxesSubplot:xlabel='C1'>"
     },
     "execution_count": 16,
     "metadata": {},
     "output_type": "execute_result"
    },
    {
     "data": {
      "text/plain": "<Figure size 432x288 with 1 Axes>",
      "image/png": "[encoded data removed]"
     },
     "metadata": {
      "needs_background": "light"
     },
     "output_type": "display_data"
    }
   ],
   "source": [
    "rlv_frequency.plot(kind=\"bar\")"
   ],
   "metadata": {
    "collapsed": false,
    "pycharm": {
     "name": "#%%\n"
    }
   }
  },
  {
   "cell_type": "markdown",
   "source": [
    "d. Draw a pie chart of the data."
   ],
   "metadata": {
    "collapsed": false,
    "pycharm": {
     "name": "#%% md\n"
    }
   }
  },
  {
   "cell_type": "code",
   "execution_count": 17,
   "outputs": [
    {
     "data": {
      "text/plain": "<AxesSubplot:ylabel='None'>"
     },
     "execution_count": 17,
     "metadata": {},
     "output_type": "execute_result"
    },
    {
     "data": {
      "text/plain": "<Figure size 432x288 with 1 Axes>",
      "image/png": "[encoded data removed]"
     },
     "metadata": {},
     "output_type": "display_data"
    }
   ],
   "source": [
    "rlv_frequency.plot(kind=\"pie\")"
   ],
   "metadata": {
    "collapsed": false,
    "pycharm": {
     "name": "#%%\n"
    }
   }
  },
  {
   "cell_type": "markdown",
   "source": [
    "e. Determine absolute cumulative frequencies and relative cumulative frequencies."
   ],
   "metadata": {
    "collapsed": false,
    "pycharm": {
     "name": "#%% md\n"
    }
   }
  },
  {
   "cell_type": "code",
   "execution_count": 18,
   "outputs": [
    {
     "data": {
      "text/plain": "C1\n0      7\n1     19\n2     32\n3     46\n4     52\n5     55\n6     58\n7     59\n8     60\ndtype: int64"
     },
     "metadata": {},
     "output_type": "display_data"
    },
    {
     "data": {
      "text/plain": "C1\n0     0.116667\n1     0.316667\n2     0.533333\n3     0.766667\n4     0.866667\n5     0.916667\n6     0.966667\n7     0.983333\n8     1.000000\ndtype: float64"
     },
     "metadata": {},
     "output_type": "display_data"
    }
   ],
   "source": [
    "abscf = abs_frequency.cumsum()\n",
    "rlvcf = rlv_frequency.cumsum()\n",
    "display(abscf)\n",
    "display(rlvcf)"
   ],
   "metadata": {
    "collapsed": false,
    "pycharm": {
     "name": "#%%\n"
    }
   }
  },
  {
   "cell_type": "markdown",
   "source": [
    "f. Plot the empirical cumulative distribution function."
   ],
   "metadata": {
    "collapsed": false,
    "pycharm": {
     "name": "#%% md\n"
    }
   }
  },
  {
   "cell_type": "code",
   "execution_count": 23,
   "outputs": [
    {
     "data": {
      "text/plain": "<AxesSubplot:xlabel='C1'>"
     },
     "execution_count": 23,
     "metadata": {},
     "output_type": "execute_result"
    },
    {
     "data": {
      "text/plain": "<Figure size 432x288 with 1 Axes>",
      "image/png": "[encoded data removed]"
     },
     "metadata": {
      "needs_background": "light"
     },
     "output_type": "display_data"
    }
   ],
   "source": [
    "ecdf = df.value_counts().sort_index().cumsum() * 1. / df.size\n",
    "ecdf.plot()"
   ],
   "metadata": {
    "collapsed": false,
    "pycharm": {
     "name": "#%%\n"
    }
   }
  },
  {
   "cell_type": "markdown",
   "source": [
    "3) <b>Tensile Ultimate Strength. (quantitative and continuous variable)</b> Allowable mechanical properties for structural design of metallic aerospace vehicles requires an approved method for statistically analyzing empirical test data. The article “Establishing Mechanical Property Allowables for Metals” (J. of Testing and Evaluation, 1998: 293–299) used the accompanying data on tensile ultimate strength (ksi) as a basis for addressing the difficulties in developing such a method. (Data: ex01.13) ,<br>\n",
    "a. Construct a histogram using equal-width classes with the first class having a lower limit of 122 and an upper limit of 126 (7 class intervals from 122 to 150). Then comment on any interesting features of the histogram. <br>\n",
    "b. Determine absolute frequencies and relative frequencies.<br>\n",
    "c. Determine absolute cumulative frequencies and relative cumulative frequencies.<br>\n",
    "d. Plot the empirical cumulative distribution function."
   ],
   "metadata": {
    "collapsed": false,
    "pycharm": {
     "name": "#%% md\n"
    }
   }
  },
  {
   "cell_type": "code",
   "execution_count": null,
   "outputs": [],
   "source": [],
   "metadata": {
    "collapsed": false,
    "pycharm": {
     "name": "#%%\n"
    }
   }
  }
 ],
 "metadata": {
  "kernelspec": {
   "display_name": "Python 3 (ipykernel)",
   "language": "python",
   "name": "python3"
  },
  "language_info": {
   "codemirror_mode": {
    "name": "ipython",
    "version": 3
   },
   "file_extension": ".py",
   "mimetype": "text/x-python",
   "name": "python",
   "nbconvert_exporter": "python",
   "pygments_lexer": "ipython3",
   "version": "3.9.8"
  }
 },
 "nbformat": 4,
 "nbformat_minor": 5
}